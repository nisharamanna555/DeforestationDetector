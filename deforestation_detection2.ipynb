{
 "cells": [
  {
   "cell_type": "markdown",
   "id": "eba52369",
   "metadata": {},
   "source": [
    "### Get Environment Variables"
   ]
  },
  {
   "cell_type": "code",
   "execution_count": null,
   "id": "30cc9247",
   "metadata": {},
   "outputs": [],
   "source": [
    "import os\n",
    "import ast"
   ]
  },
  {
   "cell_type": "code",
   "execution_count": null,
   "id": "f3d37280",
   "metadata": {},
   "outputs": [],
   "source": [
    "str_location = os.getenv('AREA')\n",
    "location = ast.literal_eval(str_location)\n",
    "start_date = os.getenv('START_DATE')\n",
    "end_date = os.getenv('END_DATE')"
   ]
  },
  {
   "cell_type": "markdown",
   "id": "e2eae0d1",
   "metadata": {},
   "source": [
    "### Connect to Google Earth Engine"
   ]
  },
  {
   "cell_type": "code",
   "execution_count": null,
   "id": "43e0b6bf",
   "metadata": {},
   "outputs": [],
   "source": [
    "import ee\n",
    "import json"
   ]
  },
  {
   "cell_type": "code",
   "execution_count": null,
   "id": "dd7d118e",
   "metadata": {},
   "outputs": [],
   "source": [
    "# if you need to re-authenticate:\n",
    "# !rm -rf ~/.config/earthengine"
   ]
  },
  {
   "cell_type": "code",
   "execution_count": null,
   "id": "4e9d2ef6",
   "metadata": {},
   "outputs": [],
   "source": [
    "def initialize_earth_engine():\n",
    "    service_account = 'deforestation-project@alert-sol-419717.iam.gserviceaccount.com'\n",
    "    service_account_key = os.getenv('SERVICE_ACCOUNT_KEY')\n",
    "\n",
    "    key_path = '/app/service_account_key_temp.json'\n",
    "    with open(key_path, 'w') as key_file:\n",
    "        key_file.write(service_account_key)\n",
    "    \n",
    "    credentials = ee.ServiceAccountCredentials(service_account, key_path)\n",
    "    ee.Initialize(credentials)"
   ]
  },
  {
   "cell_type": "code",
   "execution_count": null,
   "id": "76ba65fc-74e4-4216-90a5-2126f42cbb91",
   "metadata": {},
   "outputs": [],
   "source": [
    "initialize_earth_engine()"
   ]
  },
  {
   "cell_type": "markdown",
   "id": "dc476ab3",
   "metadata": {},
   "source": [
    "### Start Spark Session"
   ]
  },
  {
   "cell_type": "code",
   "execution_count": null,
   "id": "4ecd2a76-e60d-4809-8de8-4dfd3be2cce8",
   "metadata": {},
   "outputs": [],
   "source": [
    "import subprocess\n",
    "\n",
    "# Set bash as default shell\n",
    "os.environ['SHELL'] = '/bin/bash'\n",
    "subprocess.run([\"bash\", \"--version\"])  # Run bash to test if it's available"
   ]
  },
  {
   "cell_type": "code",
   "execution_count": null,
   "id": "f8b12df1",
   "metadata": {},
   "outputs": [],
   "source": [
    "import pyspark"
   ]
  },
  {
   "cell_type": "code",
   "execution_count": null,
   "id": "f3b1fa29",
   "metadata": {},
   "outputs": [],
   "source": [
    "os.environ['JAVA_HOME'] =  os.getenv('JAVA_HOME')\n",
    "os.environ['PATH'] = os.getenv('PATH')\n",
    "\n",
    "os.environ['PATH'] = os.environ['JAVA_HOME'] + '/bin:' + os.environ['PATH']\n",
    "\n",
    "os.environ['PYSPARK_PYTHON'] = os.getenv('PYTHON_PATH')\n",
    "os.environ['PYSPARK_DRIVER_PYTHON'] = os.getenv('PYTHON_PATH')\n",
    "\n",
    "conf = pyspark.SparkConf()\n",
    "conf.set('spark.driver.memory','4g')\n",
    "\n",
    "sc = pyspark.SparkContext(conf=conf)\n",
    "spark = pyspark.SQLContext.getOrCreate(sc)"
   ]
  },
  {
   "cell_type": "code",
   "execution_count": null,
   "id": "fd73855c-f4e0-43b5-a5b9-c4bbee29e818",
   "metadata": {},
   "outputs": [],
   "source": [
    "print(\"Done\")"
   ]
  },
  {
   "cell_type": "markdown",
   "id": "d0238bd0",
   "metadata": {},
   "source": [
    "### Connect to MongoDB"
   ]
  },
  {
   "cell_type": "code",
   "execution_count": null,
   "id": "b73e28e0",
   "metadata": {},
   "outputs": [],
   "source": [
    "# from pymongo import MongoClient\n",
    "# from gridfs import GridFS"
   ]
  },
  {
   "cell_type": "code",
   "execution_count": null,
   "id": "575cdba2",
   "metadata": {},
   "outputs": [],
   "source": [
    "def connect_to_mongo():\n",
    "    client = MongoClient(os.getenv('MONGO_URI'))\n",
    "    db = client['deforestation_db']\n",
    "    fs = GridFS(db)\n",
    "    return fs"
   ]
  },
  {
   "cell_type": "markdown",
   "id": "95c1753d",
   "metadata": {},
   "source": [
    "### Gather Satellite Images"
   ]
  },
  {
   "cell_type": "code",
   "execution_count": null,
   "id": "3efc42b4",
   "metadata": {},
   "outputs": [],
   "source": [
    "def add_3_months(date):\n",
    "    year, month = map(int, date.split('-'))\n",
    "    month += 3\n",
    "    if month > 12:\n",
    "        month -= 12\n",
    "        year += 1\n",
    "    if month == 2:\n",
    "        return f\"{year:04d}-{month:02d}-28\"\n",
    "    elif month in [1, 3, 5, 7, 8, 10, 12]:\n",
    "        return f\"{year:04d}-{month:02d}-31\"\n",
    "    else:\n",
    "        return f\"{year:04d}-{month:02d}-30\"\n",
    "    return f\"{year:04d}-{month:02d}\""
   ]
  },
  {
   "cell_type": "code",
   "execution_count": null,
   "id": "2b7784be",
   "metadata": {},
   "outputs": [],
   "source": [
    "def apply_scale_factors(image):\n",
    "  optical_bands = image.select('SR_B.').multiply(0.0000275).add(-0.2)\n",
    "  thermal_bands = image.select('ST_B.*').multiply(0.00341802).add(149.0)\n",
    "  return image.addBands(optical_bands, None, True).addBands(\n",
    "      thermal_bands, None, True\n",
    "  )"
   ]
  },
  {
   "cell_type": "code",
   "execution_count": null,
   "id": "0c6e6aaa",
   "metadata": {},
   "outputs": [],
   "source": [
    "def ndvi(image):\n",
    "    ndvi = image.normalizedDifference(['SR_B5', 'SR_B4']).rename('NDVI')\n",
    "    return image.addBands(ndvi)"
   ]
  },
  {
   "cell_type": "code",
   "execution_count": null,
   "id": "c93b6442",
   "metadata": {},
   "outputs": [],
   "source": [
    "def create_composite_image(date):\n",
    "    # EE satellites revisit a place on earth every 6 days\n",
    "        # gather at least 3 months of relevant images to make a good composite\n",
    "    start_date = date + '-01'\n",
    "    end_date = add_3_months(date)\n",
    "    return ee.ImageCollection('LANDSAT/LC08/C02/T1_L2') \\\n",
    "        .filterDate(start_date, end_date) \\\n",
    "        .filterBounds(area_of_interest) \\\n",
    "        .filter(ee.Filter.lt('CLOUD_COVER', 10))  \\\n",
    "        .map(apply_scale_factors) \\\n",
    "        .map(ndvi) \\\n",
    "        .median() \\\n",
    "        .clip(area_of_interest)"
   ]
  },
  {
   "cell_type": "code",
   "execution_count": null,
   "id": "9d11839b",
   "metadata": {},
   "outputs": [],
   "source": [
    "# area_of_interest = ee.Geometry.Rectangle(location)\n",
    "# bands = ['B4', 'B3', 'B2']\n",
    "\n",
    "# start_compositeimg = create_composite_image(start_date)\n",
    "# end_compositeimg = create_composite_image(end_date)"
   ]
  },
  {
   "cell_type": "code",
   "execution_count": null,
   "id": "ae8c9899-6e4d-4571-b834-ee08a039affa",
   "metadata": {},
   "outputs": [],
   "source": [
    "# print(\"Done\")"
   ]
  },
  {
   "cell_type": "markdown",
   "id": "86c1619b",
   "metadata": {},
   "source": [
    "### Visualize Satellite Images"
   ]
  },
  {
   "cell_type": "code",
   "execution_count": null,
   "id": "48eae190",
   "metadata": {},
   "outputs": [],
   "source": [
    "# import geemap"
   ]
  },
  {
   "cell_type": "code",
   "execution_count": null,
   "id": "fc628aa6",
   "metadata": {},
   "outputs": [],
   "source": [
    "def calculate_center(min_lon, min_lat, max_lon, max_lat):\n",
    "    center_lat = (min_lat + max_lat) / 2\n",
    "    center_lon = (min_lon + max_lon) / 2\n",
    "    return center_lat, center_lon"
   ]
  },
  {
   "cell_type": "code",
   "execution_count": null,
   "id": "9ff4b89f",
   "metadata": {},
   "outputs": [],
   "source": [
    "# center_lat, center_lon = calculate_center(location[0], location[1], location[2], location[3])"
   ]
  },
  {
   "cell_type": "code",
   "execution_count": null,
   "id": "e9c7c8d3",
   "metadata": {},
   "outputs": [],
   "source": [
    "# composite_viz_params = {\n",
    "#     'bands': ['SR_B4', 'SR_B3', 'SR_B2'],\n",
    "#     'min': 0.03,\n",
    "#     'max': 0.4,\n",
    "#     'gamma': 2.5\n",
    "# }"
   ]
  },
  {
   "cell_type": "code",
   "execution_count": null,
   "id": "49939dc5",
   "metadata": {},
   "outputs": [],
   "source": [
    "# Map = geemap.Map(center=(center_lat, center_lon), zoom=8)\n",
    "# Map.addLayer(start_compositeimg, composite_viz_params, 'Start Composite')\n",
    "# Map.addLayerControl()\n",
    "# Map"
   ]
  },
  {
   "cell_type": "code",
   "execution_count": null,
   "id": "e669b6fa",
   "metadata": {},
   "outputs": [],
   "source": [
    "# Map = geemap.Map(center=(center_lat, center_lon), zoom=8)\n",
    "# Map.addLayer(end_compositeimg, composite_viz_params, 'End Composite')\n",
    "# Map.addLayerControl()\n",
    "# Map"
   ]
  },
  {
   "cell_type": "markdown",
   "id": "13db2c7b",
   "metadata": {},
   "source": [
    "### Calculate Deforestation"
   ]
  },
  {
   "cell_type": "code",
   "execution_count": null,
   "id": "aea3d146",
   "metadata": {},
   "outputs": [],
   "source": [
    "# # sample data from start and end composite images for training\n",
    "\n",
    "# training_start = start_compositeimg.sample(**{\n",
    "#     'region': area_of_interest,\n",
    "#     'scale': 30,\n",
    "#     'numPixels': 500,\n",
    "#     'tileScale': 10\n",
    "# })\n",
    "\n",
    "# training_end = end_compositeimg.sample(**{\n",
    "#     'region': area_of_interest,\n",
    "#     'scale': 30,\n",
    "#     'numPixels': 500,\n",
    "#     'tileScale': 10\n",
    "# })"
   ]
  },
  {
   "cell_type": "code",
   "execution_count": null,
   "id": "262b86b4",
   "metadata": {},
   "outputs": [],
   "source": [
    "# # apply k-means clustering\n",
    "# numberOfClusters = 3\n",
    "\n",
    "# clusterer_start = ee.Clusterer.wekaKMeans(numberOfClusters).train(training_start)\n",
    "# clusterer_end = ee.Clusterer.wekaKMeans(numberOfClusters).train(training_end)\n",
    "\n",
    "# classified_start = start_compositeimg.cluster(clusterer_start)\n",
    "# classified_end = end_compositeimg.cluster(clusterer_end)"
   ]
  },
  {
   "cell_type": "code",
   "execution_count": null,
   "id": "198857f2",
   "metadata": {},
   "outputs": [],
   "source": [
    "# # calculate difference between clustered images to detect deforestation\n",
    "# deforestation = classified_end.subtract(classified_start).abs()"
   ]
  },
  {
   "cell_type": "code",
   "execution_count": null,
   "id": "f6f22963-195f-4ea5-b046-fe09995df9d5",
   "metadata": {},
   "outputs": [],
   "source": [
    "# print(\"Done\")"
   ]
  },
  {
   "cell_type": "markdown",
   "id": "c60ee938",
   "metadata": {},
   "source": [
    "### Visualize Results"
   ]
  },
  {
   "cell_type": "code",
   "execution_count": null,
   "id": "9d4daa99",
   "metadata": {},
   "outputs": [],
   "source": [
    "# cluster_viz_params = {\n",
    "#     'min': 0,\n",
    "#     'max': numberOfClusters - 1,\n",
    "#     'palette': ['red', 'green', 'blue']\n",
    "# }"
   ]
  },
  {
   "cell_type": "code",
   "execution_count": null,
   "id": "c0d3ee45",
   "metadata": {},
   "outputs": [],
   "source": [
    "# Map = geemap.Map(center=(center_lat, center_lon), zoom=8)\n",
    "# Map.addLayer(deforestation, cluster_viz_params, 'Deforestation')\n",
    "# Map.addLayerControl()\n",
    "# Map"
   ]
  },
  {
   "cell_type": "markdown",
   "id": "355898b8",
   "metadata": {},
   "source": [
    "### Save Maps to MongoDB"
   ]
  },
  {
   "cell_type": "code",
   "execution_count": null,
   "id": "09ea46cc",
   "metadata": {},
   "outputs": [],
   "source": [
    "# import requests\n",
    "# from PIL import Image\n",
    "# import io"
   ]
  },
  {
   "cell_type": "code",
   "execution_count": null,
   "id": "f59b2df0",
   "metadata": {},
   "outputs": [],
   "source": [
    "# function to get byte value of maps\n",
    "def export_image_to_bytes(image, region, scale=30, crs='EPSG:4326'):\n",
    "    download_url = image.getDownloadURL({\n",
    "        'scale': scale,\n",
    "        'region': region,\n",
    "        'crs': crs,\n",
    "        'format': 'GEO_TIFF'\n",
    "    })\n",
    "    response = requests.get(download_url)\n",
    "    if response.status_code == 200:\n",
    "        # convert TIFF image to PNG\n",
    "        tiff_image = Image.open(io.BytesIO(response.content))\n",
    "        img_io = io.BytesIO()\n",
    "        tiff_image.save(img_io, format='PNG')\n",
    "        img_io.seek(0)\n",
    "        return img_io.getvalue()\n",
    "    else:\n",
    "        return None"
   ]
  },
  {
   "cell_type": "code",
   "execution_count": null,
   "id": "2288447d",
   "metadata": {},
   "outputs": [],
   "source": [
    "# function to process and store images in MongoDB\n",
    "def process_and_store_image(task):\n",
    "    image, region, scale = task\n",
    "\n",
    "    # initialize google earth engine\n",
    "    initialize_earth_engine()\n",
    "\n",
    "    # connect to MongoDB\n",
    "    fs = connect_to_mongo()\n",
    "    \n",
    "    image_bytes = export_image_to_bytes(image, region, scale)\n",
    "    if image_bytes:\n",
    "        image_id = fs.put(image_bytes, filename=f'{image}', metadata={'description': f'{image} Visualization'})\n",
    "        if not image_id:\n",
    "            print(\"Failed to store image in MongoDB\")        \n",
    "        return image_id\n",
    "    return None"
   ]
  },
  {
   "cell_type": "code",
   "execution_count": null,
   "id": "2718a154",
   "metadata": {},
   "outputs": [],
   "source": [
    "# # preprocess maps for optimal display\n",
    "\n",
    "# start_composite_viz = start_compositeimg.visualize(**{\n",
    "#     'bands': ['SR_B4', 'SR_B3', 'SR_B2'],\n",
    "#     'min': 0.03,\n",
    "#     'max': 0.4,\n",
    "#     'gamma': 2.5\n",
    "# })\n",
    "\n",
    "# end_composite_viz = end_compositeimg.visualize(**{\n",
    "#     'bands': ['SR_B4', 'SR_B3', 'SR_B2'],\n",
    "#     'min': 0.03,\n",
    "#     'max': 0.4,\n",
    "#     'gamma': 2.5\n",
    "# })\n",
    "\n",
    "# clustered_composite_viz = deforestation.visualize(**{\n",
    "#     'min': 0,\n",
    "#     'max': numberOfClusters - 1,\n",
    "#     'palette': ['red', 'green', 'blue']\n",
    "# })"
   ]
  },
  {
   "cell_type": "code",
   "execution_count": null,
   "id": "f67ee070-e7cc-47de-bf46-119d25bf1100",
   "metadata": {},
   "outputs": [],
   "source": [
    "# print(\"Done\")"
   ]
  },
  {
   "cell_type": "code",
   "execution_count": null,
   "id": "2232b2d1",
   "metadata": {},
   "outputs": [],
   "source": [
    "# tasks = [\n",
    "#     (start_composite_viz, area_of_interest, 100),\n",
    "#     (end_composite_viz, area_of_interest, 100),\n",
    "#     (clustered_composite_viz, area_of_interest, 500)\n",
    "# ]\n",
    "\n",
    "# # parallelize tasks using Spark\n",
    "# rdd = sc.parallelize(tasks)\n",
    "# image_ids = rdd.map(process_and_store_image).collect()"
   ]
  },
  {
   "cell_type": "code",
   "execution_count": null,
   "id": "0980f747-a260-4f75-a35a-c8cc41a32208",
   "metadata": {},
   "outputs": [],
   "source": [
    "# print(\"Done\")"
   ]
  },
  {
   "cell_type": "code",
   "execution_count": null,
   "id": "a15a8977",
   "metadata": {},
   "outputs": [],
   "source": [
    "# image_ids_dict = {\n",
    "#     \"start_image_id\": str(image_ids[0]),\n",
    "#     \"end_image_id\": str(image_ids[1]),\n",
    "#     \"clustered_image_id\": str(image_ids[2])\n",
    "# }"
   ]
  },
  {
   "cell_type": "code",
   "execution_count": null,
   "id": "800b7eec-6406-4880-aa48-03e4d99e0966",
   "metadata": {},
   "outputs": [],
   "source": [
    "# print(image_ids_dict)"
   ]
  },
  {
   "cell_type": "markdown",
   "id": "534ecf1d",
   "metadata": {},
   "source": [
    "### Store Image IDs in JSON File"
   ]
  },
  {
   "cell_type": "code",
   "execution_count": null,
   "id": "6941b176",
   "metadata": {},
   "outputs": [],
   "source": [
    "# import json"
   ]
  },
  {
   "cell_type": "code",
   "execution_count": null,
   "id": "de6b5ca1",
   "metadata": {},
   "outputs": [],
   "source": [
    "# with open('image_ids.json', 'w') as f:\n",
    "#     json.dump(image_ids_dict, f)"
   ]
  },
  {
   "cell_type": "code",
   "execution_count": null,
   "id": "b2cdcf00-d1d4-4672-823b-75109281566b",
   "metadata": {},
   "outputs": [],
   "source": [
    "# print(\"Done\")"
   ]
  }
 ],
 "metadata": {
  "kernelspec": {
   "display_name": "Python 3 (ipykernel)",
   "language": "python",
   "name": "python3"
  },
  "language_info": {
   "codemirror_mode": {
    "name": "ipython",
    "version": 3
   },
   "file_extension": ".py",
   "mimetype": "text/x-python",
   "name": "python",
   "nbconvert_exporter": "python",
   "pygments_lexer": "ipython3",
   "version": "3.10.12"
  }
 },
 "nbformat": 4,
 "nbformat_minor": 5
}
